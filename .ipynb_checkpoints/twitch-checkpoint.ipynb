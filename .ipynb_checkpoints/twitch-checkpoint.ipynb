{
 "cells": [
  {
   "cell_type": "code",
   "execution_count": 28,
   "id": "9e7af039",
   "metadata": {},
   "outputs": [
    {
     "name": "stdout",
     "output_type": "stream",
     "text": [
      "0\n"
     ]
    }
   ],
   "source": [
    "\n",
    "import requests,time,json\n",
    "from bs4 import BeautifulSoup\n",
    "\n",
    "time.sleep(3)\n",
    "\n",
    "url = \"https://www.twitch.tv/zxc21415\"\n",
    "\n",
    "# 以網址去請求去得到他回傳的HTML\n",
    "get_html=requests.get(url)\n",
    "# 回傳網頁HTML ； 若只有print(get_html) => 則會回傳HTTP代碼(200、404、500..)\n",
    "#print(get_html)\n",
    "\n",
    "# 抓不到\n",
    "sel=\"div > div > div:nth-child(3) > div > div\"\n",
    "     #\\34 6c177da767d87320be36b0981076d32 > div > div.Layout-sc-nxg1ff-0.hoDdPM > div > div > div > div > div > section > div > div.InjectLayout-sc-588ddc-0.chat-list--default.font-scale--default.hklDpq > div > div.scrollable-area > div.simplebar-scroll-content > div > div > div:nth-child(3) > div > div\n",
    "soup = BeautifulSoup(get_html.text, 'html.parser')\n",
    "#data = soup.find_all(\"div > div\")\n",
    "data = soup.select(\"div > div\")\n",
    "\n",
    "print(len(data))\n"
   ]
  }
 ],
 "metadata": {
  "kernelspec": {
   "display_name": "Python 3 (ipykernel)",
   "language": "python",
   "name": "python3"
  },
  "language_info": {
   "codemirror_mode": {
    "name": "ipython",
    "version": 3
   },
   "file_extension": ".py",
   "mimetype": "text/x-python",
   "name": "python",
   "nbconvert_exporter": "python",
   "pygments_lexer": "ipython3",
   "version": "3.9.12"
  }
 },
 "nbformat": 4,
 "nbformat_minor": 5
}
